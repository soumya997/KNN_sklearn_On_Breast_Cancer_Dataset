{
  "nbformat": 4,
  "nbformat_minor": 0,
  "metadata": {
    "colab": {
      "name": "KNN_sklearn.ipynb",
      "provenance": [],
      "include_colab_link": true
    },
    "kernelspec": {
      "name": "python3",
      "display_name": "Python 3"
    }
  },
  "cells": [
    {
      "cell_type": "markdown",
      "metadata": {
        "id": "view-in-github",
        "colab_type": "text"
      },
      "source": [
        "<a href=\"https://colab.research.google.com/github/soumya997/KNN_sklearn_On_Breast_Cancer_Dataset/blob/master/KNN_sklearn.ipynb\" target=\"_parent\"><img src=\"https://colab.research.google.com/assets/colab-badge.svg\" alt=\"Open In Colab\"/></a>"
      ]
    },
    {
      "cell_type": "code",
      "metadata": {
        "id": "z5PwqZyi55pn",
        "colab_type": "code",
        "colab": {}
      },
      "source": [
        "from sklearn.datasets import load_breast_cancer\n",
        "from sklearn.neighbors import KNeighborsClassifier\n",
        "from sklearn.model_selection import train_test_split\n",
        "import matplotlib.pyplot as plt\n"
      ],
      "execution_count": 0,
      "outputs": []
    },
    {
      "cell_type": "code",
      "metadata": {
        "id": "oFTSi2y75zk3",
        "colab_type": "code",
        "outputId": "f2a155ec-dc8e-499e-ec3f-3458a4843424",
        "colab": {
          "base_uri": "https://localhost:8080/",
          "height": 69
        }
      },
      "source": [
        "cancer = load_breast_cancer()\n",
        "X_train,X_test,Y_train,Y_test = train_test_split(cancer.data,cancer.target,stratify=cancer.target,random_state=42)\n",
        "knn =  KNeighborsClassifier()\n",
        "knn.fit(X_train,Y_train)\n"
      ],
      "execution_count": 0,
      "outputs": [
        {
          "output_type": "execute_result",
          "data": {
            "text/plain": [
              "KNeighborsClassifier(algorithm='auto', leaf_size=30, metric='minkowski',\n",
              "                     metric_params=None, n_jobs=None, n_neighbors=5, p=2,\n",
              "                     weights='uniform')"
            ]
          },
          "metadata": {
            "tags": []
          },
          "execution_count": 21
        }
      ]
    },
    {
      "cell_type": "code",
      "metadata": {
        "id": "ELnW9r5M5wgA",
        "colab_type": "code",
        "outputId": "711e1f6c-2381-48ae-9bd5-3ad0c15acbac",
        "colab": {
          "base_uri": "https://localhost:8080/",
          "height": 173
        }
      },
      "source": [
        "print(knn.score(X_train,Y_train))\n",
        "print(knn.score(X_test,Y_test))\n",
        "\n",
        "knn.predict(X_test)\n"
      ],
      "execution_count": 0,
      "outputs": [
        {
          "output_type": "stream",
          "text": [
            "0.9342723004694836\n",
            "0.9440559440559441\n"
          ],
          "name": "stdout"
        },
        {
          "output_type": "execute_result",
          "data": {
            "text/plain": [
              "array([1, 0, 1, 1, 1, 0, 0, 0, 0, 1, 1, 1, 0, 0, 1, 1, 0, 1, 1, 1, 0, 0,\n",
              "       1, 1, 1, 1, 1, 1, 1, 0, 1, 1, 1, 1, 1, 1, 1, 1, 0, 1, 0, 1, 0, 1,\n",
              "       0, 1, 0, 1, 0, 1, 1, 1, 1, 0, 1, 1, 1, 0, 0, 0, 1, 0, 1, 0, 1, 1,\n",
              "       0, 0, 1, 1, 1, 1, 1, 1, 1, 0, 0, 0, 0, 1, 1, 1, 1, 1, 0, 1, 0, 1,\n",
              "       1, 1, 1, 0, 0, 1, 0, 0, 0, 1, 0, 1, 0, 0, 0, 1, 1, 0, 1, 1, 0, 1,\n",
              "       0, 1, 1, 0, 1, 0, 1, 1, 1, 0, 1, 1, 0, 1, 0, 1, 1, 0, 1, 1, 1, 1,\n",
              "       1, 1, 0, 0, 1, 1, 1, 1, 1, 1, 1])"
            ]
          },
          "metadata": {
            "tags": []
          },
          "execution_count": 15
        }
      ]
    },
    {
      "cell_type": "code",
      "metadata": {
        "id": "SfuTgDNw5hD7",
        "colab_type": "code",
        "outputId": "9a7b0309-d966-42ae-d383-d7c1116d6e53",
        "colab": {
          "base_uri": "https://localhost:8080/",
          "height": 352
        }
      },
      "source": [
        "train_score = []\n",
        "test_score = []\n",
        "\n",
        "\n",
        "for i in range(1,11):\n",
        "  knn =  KNeighborsClassifier(n_neighbors = i )\n",
        "  knn.fit(X_train,Y_train)\n",
        "  a=knn.score(X_train,Y_train)\n",
        "  b=knn.score(X_test,Y_test)\n",
        "  train_score.append(a)\n",
        "  test_score.append(b)\n",
        "\n",
        "print(train_score)\n",
        "print(test_score)\n",
        "\n",
        "num_of_neighbors = range(1,11)\n",
        "\n",
        "plt.plot(num_of_neighbors,train_score,label = 'accurecy with training')\n",
        "plt.plot(num_of_neighbors,test_score,label = 'accurecy with testing')\n",
        "plt.ylabel('accurecy')\n",
        "plt.xlabel('number_of_neighbors')\n",
        "plt.legend()\n",
        "\n",
        "\n",
        "\n",
        "\n",
        "\n",
        "\n",
        "\n"
      ],
      "execution_count": 0,
      "outputs": [
        {
          "output_type": "stream",
          "text": [
            "[1.0, 0.9671361502347418, 0.9507042253521126, 0.9460093896713615, 0.9460093896713615, 0.9483568075117371, 0.9460093896713615, 0.9460093896713615, 0.9389671361502347, 0.9342723004694836]\n",
            "[0.9370629370629371, 0.9300699300699301, 0.9300699300699301, 0.916083916083916, 0.9300699300699301, 0.9230769230769231, 0.9440559440559441, 0.9440559440559441, 0.9440559440559441, 0.9440559440559441]\n"
          ],
          "name": "stdout"
        },
        {
          "output_type": "execute_result",
          "data": {
            "text/plain": [
              "<matplotlib.legend.Legend at 0x7f7ea3b9efd0>"
            ]
          },
          "metadata": {
            "tags": []
          },
          "execution_count": 14
        },
        {
          "output_type": "display_data",
          "data": {
            "image/png": "[encoded data removed]",
            "text/plain": [
              "<Figure size 432x288 with 1 Axes>"
            ]
          },
          "metadata": {
            "tags": []
          }
        }
      ]
    },
    {
      "cell_type": "code",
      "metadata": {
        "id": "lO-H329YQ1cV",
        "colab_type": "code",
        "colab": {}
      },
      "source": [
        ""
      ],
      "execution_count": 0,
      "outputs": []
    }
  ]
}